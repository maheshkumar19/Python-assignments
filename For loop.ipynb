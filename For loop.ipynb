{
 "cells": [
  {
   "cell_type": "code",
   "execution_count": 1,
   "metadata": {},
   "outputs": [
    {
     "name": "stdout",
     "output_type": "stream",
     "text": [
      "(1, 2, True, 3.5, 'python')\n",
      "(1, 2, True, 3.5, 'python')\n",
      "(1, 2, True, 3.5, 'python')\n",
      "(1, 2, True, 3.5, 'python')\n",
      "(1, 2, True, 3.5, 'python')\n"
     ]
    }
   ],
   "source": [
    "# using for loop to loop over tuples\n",
    "tup1 = (1,2,True,3.5,'python')\n",
    "for item in tup1:\n",
    "    print(tup1)"
   ]
  },
  {
   "cell_type": "code",
   "execution_count": 2,
   "metadata": {},
   "outputs": [
    {
     "name": "stdout",
     "output_type": "stream",
     "text": [
      "set([1, 2, 3, 4])\n",
      "set([1, 2, 3, 4])\n",
      "set([1, 2, 3, 4])\n",
      "set([1, 2, 3, 4])\n"
     ]
    }
   ],
   "source": [
    "# using for loop to loop over sets\n",
    "set1 = {1,2,3,4}\n",
    "for item in set1:\n",
    "    print(set1)"
   ]
  },
  {
   "cell_type": "code",
   "execution_count": 3,
   "metadata": {},
   "outputs": [
    {
     "name": "stdout",
     "output_type": "stream",
     "text": [
      "set(['Honda', 'Bajaj', 'TVS'])\n",
      "set(['Honda', 'Bajaj', 'TVS'])\n",
      "set(['Honda', 'Bajaj', 'TVS'])\n"
     ]
    }
   ],
   "source": [
    "# using for loop to loop over dictionary\n",
    "x = {\"Bajaj\", \"TVS\", \"Honda\"}\n",
    "for i in x:\n",
    "    print(x)"
   ]
  },
  {
   "cell_type": "code",
   "execution_count": null,
   "metadata": {},
   "outputs": [],
   "source": []
  }
 ],
 "metadata": {
  "kernelspec": {
   "display_name": "Python 2",
   "language": "python",
   "name": "python2"
  },
  "language_info": {
   "codemirror_mode": {
    "name": "ipython",
    "version": 2
   },
   "file_extension": ".py",
   "mimetype": "text/x-python",
   "name": "python",
   "nbconvert_exporter": "python",
   "pygments_lexer": "ipython2",
   "version": "2.7.16"
  }
 },
 "nbformat": 4,
 "nbformat_minor": 2
}
