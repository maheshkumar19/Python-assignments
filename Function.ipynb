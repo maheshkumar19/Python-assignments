{
 "cells": [
  {
   "cell_type": "code",
   "execution_count": 1,
   "metadata": {},
   "outputs": [
    {
     "name": "stdout",
     "output_type": "stream",
     "text": [
      "Enter the first number : 25\n",
      "Enter the second number : 10\n",
      "Press 1 for addition,2 for subtraction,3 for multiplication and 4 for division  : 2\n",
      "The substraction of 25 and 10 is 15\n"
     ]
    }
   ],
   "source": [
    "#Ask 2 numbers from users and store it in num1 and num2\n",
    "#Ask user to press 1 for addition,2 for subtraction,3 for multiplication and 4 for division\n",
    "#create 4 seperate functions for each operation (i.e. addition,subtraction,multiplication and division)\n",
    "#based on number given by user,call that perticular function and print the output\n",
    "\n",
    "\n",
    "num1 = input(\"Enter the first number : \")\n",
    "num2 = input(\"Enter the second number : \")\n",
    "num3 = input(\"Press 1 for addition,2 for subtraction,3 for multiplication and 4 for division  : \")\n",
    "if num3 ==1:\n",
    "    def add(num1,num2):\n",
    "        num4 = num1+num2\n",
    "        print(\"The addition of {} and {} is {}\".format(num1,num2,num4))\n",
    "    add(num1,num2)\n",
    "elif num3==2:\n",
    "    def sub(num1,num2):\n",
    "        num5 = num1 - num2\n",
    "        print(\"The substraction of {} and {} is {}\".format(num1,num2,num5))\n",
    "    sub(num1,num2)\n",
    "elif num3==3:\n",
    "    def multi(num1,num2):\n",
    "        num6 = num1 * num2\n",
    "        print(\"The multiplication of {} and {} is {}\".format(num1,num2,num6))\n",
    "    multi(num1,num2)\n",
    "elif num3==4:\n",
    "    def div(num1,num2):\n",
    "        num7 = num1 / num2\n",
    "        print(\"The division of {} and {} is {}\".format(num1,num2,num7))\n",
    "    div(num1,num2)\n",
    "else:\n",
    "    print(\"Option doesnot exists\")  "
   ]
  },
  {
   "cell_type": "code",
   "execution_count": null,
   "metadata": {},
   "outputs": [],
   "source": []
  }
 ],
 "metadata": {
  "kernelspec": {
   "display_name": "Python 2",
   "language": "python",
   "name": "python2"
  },
  "language_info": {
   "codemirror_mode": {
    "name": "ipython",
    "version": 2
   },
   "file_extension": ".py",
   "mimetype": "text/x-python",
   "name": "python",
   "nbconvert_exporter": "python",
   "pygments_lexer": "ipython2",
   "version": "2.7.16"
  }
 },
 "nbformat": 4,
 "nbformat_minor": 2
}
