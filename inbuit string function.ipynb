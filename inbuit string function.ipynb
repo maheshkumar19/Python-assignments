{
 "cells": [
  {
   "cell_type": "code",
   "execution_count": 2,
   "metadata": {},
   "outputs": [
    {
     "name": "stdout",
     "output_type": "stream",
     "text": [
      "I am Engineer\n"
     ]
    }
   ],
   "source": [
    "# 1) .replace()\n",
    "s = 'I am Doctor'\n",
    "s1 = s.replace('Doctor','Engineer')  #s.replace('old','new')\n",
    "print(s1)"
   ]
  },
  {
   "cell_type": "code",
   "execution_count": 3,
   "metadata": {},
   "outputs": [
    {
     "name": "stdout",
     "output_type": "stream",
     "text": [
      "M       a       n       g       o\n"
     ]
    }
   ],
   "source": [
    "# 2) .expandtabs()\n",
    "m = 'M\\ta\\tn\\tg\\to'     # where \\t gives tabspace\n",
    "m1 = m.expandtabs()\n",
    "print(m1)"
   ]
  },
  {
   "cell_type": "code",
   "execution_count": 4,
   "metadata": {},
   "outputs": [
    {
     "name": "stdout",
     "output_type": "stream",
     "text": [
      "2\n"
     ]
    }
   ],
   "source": [
    "# 3) .index()\n",
    "d = 'xyz123xyz'\n",
    "d1= d.index('z')\n",
    "print(d1)"
   ]
  },
  {
   "cell_type": "code",
   "execution_count": 6,
   "metadata": {},
   "outputs": [
    {
     "name": "stdout",
     "output_type": "stream",
     "text": [
      "**Apple***\n"
     ]
    }
   ],
   "source": [
    "# 4) .center()\n",
    "a = 'Apple'\n",
    "a1 = a.center(10,'*')   # str.center(width[, fillchar])\n",
    "print(a1)"
   ]
  },
  {
   "cell_type": "code",
   "execution_count": 7,
   "metadata": {},
   "outputs": [
    {
     "name": "stdout",
     "output_type": "stream",
     "text": [
      "['hello,', 'welcome', 'to', 'my', 'world']\n"
     ]
    }
   ],
   "source": [
    "# 5) .split()\n",
    "txt=\"hello, welcome to my world\"\n",
    "txt1 = txt.split()\n",
    "print(txt1)"
   ]
  },
  {
   "cell_type": "code",
   "execution_count": null,
   "metadata": {},
   "outputs": [],
   "source": []
  }
 ],
 "metadata": {
  "kernelspec": {
   "display_name": "Python 2",
   "language": "python",
   "name": "python2"
  },
  "language_info": {
   "codemirror_mode": {
    "name": "ipython",
    "version": 2
   },
   "file_extension": ".py",
   "mimetype": "text/x-python",
   "name": "python",
   "nbconvert_exporter": "python",
   "pygments_lexer": "ipython2",
   "version": "2.7.16"
  }
 },
 "nbformat": 4,
 "nbformat_minor": 2
}
