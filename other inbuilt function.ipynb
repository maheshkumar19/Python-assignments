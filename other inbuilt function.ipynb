{
 "cells": [
  {
   "cell_type": "code",
   "execution_count": 2,
   "metadata": {},
   "outputs": [
    {
     "name": "stdout",
     "output_type": "stream",
     "text": [
      "19\n"
     ]
    }
   ],
   "source": [
    "# reduce() function\n",
    "\n",
    "\n",
    "import functools\n",
    "list = [1,2,5,8,3]\n",
    "result = functools.reduce(lambda a,b: a+b,list)\n",
    "print(result)"
   ]
  },
  {
   "cell_type": "code",
   "execution_count": 3,
   "metadata": {},
   "outputs": [
    {
     "name": "stdout",
     "output_type": "stream",
     "text": [
      "240\n"
     ]
    }
   ],
   "source": [
    "import operator\n",
    "list = [1,2,5,8,3]\n",
    "print (functools.reduce(operator.mul,list)) \n",
    "  "
   ]
  },
  {
   "cell_type": "code",
   "execution_count": 4,
   "metadata": {},
   "outputs": [
    {
     "name": "stdout",
     "output_type": "stream",
     "text": [
      "[(1, 'm'), (2, 'a'), (3, 'h'), (4, 'e'), (5, 's'), (6, 'h')]\n"
     ]
    }
   ],
   "source": [
    "# zip() function\n",
    "\n",
    "# using list\n",
    "numbers=[1,2,3,4,5,6]\n",
    "letters=['m','a','h','e','s','h']\n",
    "print(zip(numbers,letters))"
   ]
  },
  {
   "cell_type": "code",
   "execution_count": 5,
   "metadata": {},
   "outputs": [
    {
     "name": "stdout",
     "output_type": "stream",
     "text": [
      "[(1, 'a'), (2, 'c'), (3, 'b')]\n"
     ]
    }
   ],
   "source": [
    "#using sets\n",
    "s1 = {2, 3, 1}\n",
    "s2 = {'b', 'a', 'c'}\n",
    "s3=zip(s1, s2)\n",
    "print(s3)"
   ]
  },
  {
   "cell_type": "code",
   "execution_count": 6,
   "metadata": {},
   "outputs": [
    {
     "name": "stdout",
     "output_type": "stream",
     "text": [
      "Return type: <type 'enumerate'>\n",
      "((0, 'morning'), (1, 'evening'), (2, 'night'))\n"
     ]
    }
   ],
   "source": [
    "#enumerate()function\n",
    "\n",
    "l1 = [\"morning\",\"evening\",\"night\"] \n",
    "l2 = enumerate(l1)\n",
    "print \"Return type:\",type(l2) \n",
    "l3=tuple(enumerate(l1)) \n",
    "print(l3)"
   ]
  },
  {
   "cell_type": "code",
   "execution_count": 7,
   "metadata": {},
   "outputs": [
    {
     "name": "stdout",
     "output_type": "stream",
     "text": [
      "((2, 'n'), (3, 'e'), (4, 't'), (5, 'f'), (6, 'l'), (7, 'i'), (8, 'x'))\n"
     ]
    }
   ],
   "source": [
    "s1 = \"netflix\"\n",
    "s2=tuple(enumerate(s1,2))\n",
    "print(s2)"
   ]
  },
  {
   "cell_type": "code",
   "execution_count": null,
   "metadata": {},
   "outputs": [],
   "source": []
  }
 ],
 "metadata": {
  "kernelspec": {
   "display_name": "Python 2",
   "language": "python",
   "name": "python2"
  },
  "language_info": {
   "codemirror_mode": {
    "name": "ipython",
    "version": 2
   },
   "file_extension": ".py",
   "mimetype": "text/x-python",
   "name": "python",
   "nbconvert_exporter": "python",
   "pygments_lexer": "ipython2",
   "version": "2.7.16"
  }
 },
 "nbformat": 4,
 "nbformat_minor": 2
}
