{
 "cells": [
  {
   "cell_type": "code",
   "execution_count": 66,
   "metadata": {},
   "outputs": [
    {
     "name": "stdout",
     "output_type": "stream",
     "text": [
      "set(['Bajaj', 'Honda'])\n"
     ]
    }
   ],
   "source": [
    "# difference()\n",
    "x = {\"Bajaj\", \"TVS\", \"Honda\"}\n",
    "y = {\"Pulsar\", \"Activa\", \"TVS\"}\n",
    "\n",
    "z = x.difference(y)  # restore first set elements, removing common element in both set \n",
    "print(z)"
   ]
  },
  {
   "cell_type": "code",
   "execution_count": 67,
   "metadata": {},
   "outputs": [
    {
     "name": "stdout",
     "output_type": "stream",
     "text": [
      "set(['m', 'l'])\n"
     ]
    }
   ],
   "source": [
    "a = {1,2,3}\n",
    "b = {'l','m',1}\n",
    "c = b.difference(a)   # restore second set elements,removing common element in both set\n",
    "print(c)"
   ]
  },
  {
   "cell_type": "code",
   "execution_count": 68,
   "metadata": {},
   "outputs": [
    {
     "name": "stdout",
     "output_type": "stream",
     "text": [
      "set(['Pulsar', 'Bajaj', 'Honda', 'Activa'])\n"
     ]
    }
   ],
   "source": [
    "# symmetric_difference()\n",
    "x = {\"Bajaj\", \"TVS\", \"Honda\"}\n",
    "y = {\"Pulsar\", \"Activa\", \"TVS\"}\n",
    "z = x.symmetric_difference(y)  # restore both sets elements, removing common element in both set\n",
    "print(z)"
   ]
  },
  {
   "cell_type": "code",
   "execution_count": 69,
   "metadata": {},
   "outputs": [
    {
     "name": "stdout",
     "output_type": "stream",
     "text": [
      "set([2, 3, 'm', 'l'])\n"
     ]
    }
   ],
   "source": [
    "a = {1,2,3}\n",
    "b = {'l','m',1}\n",
    "c = b.symmetric_difference(a)\n",
    "print(c)"
   ]
  },
  {
   "cell_type": "code",
   "execution_count": null,
   "metadata": {},
   "outputs": [],
   "source": []
  }
 ],
 "metadata": {
  "kernelspec": {
   "display_name": "Python 2",
   "language": "python",
   "name": "python2"
  },
  "language_info": {
   "codemirror_mode": {
    "name": "ipython",
    "version": 2
   },
   "file_extension": ".py",
   "mimetype": "text/x-python",
   "name": "python",
   "nbconvert_exporter": "python",
   "pygments_lexer": "ipython2",
   "version": "2.7.16"
  }
 },
 "nbformat": 4,
 "nbformat_minor": 2
}
