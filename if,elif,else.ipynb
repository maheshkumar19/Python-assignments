{
 "cells": [
  {
   "cell_type": "code",
   "execution_count": 26,
   "metadata": {},
   "outputs": [
    {
     "name": "stdout",
     "output_type": "stream",
     "text": [
      "enter the first number : 5\n",
      "enter the second number : 2\n",
      "press 1 for addition,2 for subtraction,3 for multiplication and 4 for division3\n",
      "The multiplicatiion of 5 and 2 is 10\n"
     ]
    }
   ],
   "source": [
    "#Task9\n",
    "# Ask 2 numbers from users and store it in num1 and num2\n",
    "# Ask user to press 1 for addition,2 for subtraction,3 for multiplication and 4 for division\n",
    "# based on number given by user do the math operation\n",
    "num1 = input(\"enter the first number : \")\n",
    "num2 = input(\"enter the second number : \")\n",
    "num3 = input(\"press 1 for addition,2 for subtraction,3 for multiplication and 4 for division\")\n",
    "if num3==1:\n",
    "    num3= num1+num2\n",
    "    print(\"The addition of {} and {} is {}\".format(num1,num2,num3))\n",
    "if num3==2:\n",
    "    num3 = num1-num2\n",
    "    print(\"The substraction of {} and {} is {}\".format(num1,num2,num3))  \n",
    "elif num3==3:\n",
    "    num3 = num1*num2\n",
    "    print(\"The multiplicatiion of {} and {} is {}\".format(num1,num2,num3))\n",
    "elif num3==4:\n",
    "    num3= num1/num2\n",
    "    print(\"The division of {} and {} is {}\".format(num1,num2,num3))\n",
    "else:\n",
    "    print(\"option doesnot exists\") "
   ]
  },
  {
   "cell_type": "code",
   "execution_count": null,
   "metadata": {},
   "outputs": [],
   "source": []
  }
 ],
 "metadata": {
  "kernelspec": {
   "display_name": "Python 2",
   "language": "python",
   "name": "python2"
  },
  "language_info": {
   "codemirror_mode": {
    "name": "ipython",
    "version": 2
   },
   "file_extension": ".py",
   "mimetype": "text/x-python",
   "name": "python",
   "nbconvert_exporter": "python",
   "pygments_lexer": "ipython2",
   "version": "2.7.16"
  }
 },
 "nbformat": 4,
 "nbformat_minor": 2
}
